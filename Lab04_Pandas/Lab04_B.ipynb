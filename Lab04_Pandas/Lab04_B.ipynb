{
 "cells": [
  {
   "cell_type": "markdown",
   "metadata": {
    "id": "42t-dya0jslR"
   },
   "source": [
    "# B. Programming Exercise (30 points)\n",
    "Through this assignment, students will become familiar with basic operations using pandas.\n",
    "\n",
    "**note:**\n",
    "* You can use pipenv to install all modules you need"
   ]
  },
  {
   "cell_type": "code",
   "execution_count": 1,
   "metadata": {
    "id": "_DrRV1SrjslT"
   },
   "outputs": [],
   "source": [
    "import pandas as pd\n",
    "import math\n",
    "from pandas.api.types import is_string_dtype\n",
    "import numpy as np\n",
    "import matplotlib.pyplot as plt"
   ]
  },
  {
   "cell_type": "code",
   "execution_count": 2,
   "metadata": {
    "id": "u0g8yLwljslT"
   },
   "outputs": [
    {
     "data": {
      "text/html": [
       "<div>\n",
       "<style scoped>\n",
       "    .dataframe tbody tr th:only-of-type {\n",
       "        vertical-align: middle;\n",
       "    }\n",
       "\n",
       "    .dataframe tbody tr th {\n",
       "        vertical-align: top;\n",
       "    }\n",
       "\n",
       "    .dataframe thead th {\n",
       "        text-align: right;\n",
       "    }\n",
       "</style>\n",
       "<table border=\"1\" class=\"dataframe\">\n",
       "  <thead>\n",
       "    <tr style=\"text-align: right;\">\n",
       "      <th></th>\n",
       "      <th>#</th>\n",
       "      <th>Name</th>\n",
       "      <th>Type 1</th>\n",
       "      <th>Type 2</th>\n",
       "      <th>Total</th>\n",
       "      <th>HP</th>\n",
       "      <th>Attack</th>\n",
       "      <th>Defense</th>\n",
       "      <th>Sp. Atk</th>\n",
       "      <th>Sp. Def</th>\n",
       "      <th>Speed</th>\n",
       "      <th>Generation</th>\n",
       "      <th>Legendary</th>\n",
       "    </tr>\n",
       "  </thead>\n",
       "  <tbody>\n",
       "    <tr>\n",
       "      <th>0</th>\n",
       "      <td>1</td>\n",
       "      <td>Bulbasaur</td>\n",
       "      <td>Grass</td>\n",
       "      <td>Poison</td>\n",
       "      <td>318</td>\n",
       "      <td>45</td>\n",
       "      <td>49</td>\n",
       "      <td>49</td>\n",
       "      <td>65</td>\n",
       "      <td>65</td>\n",
       "      <td>45</td>\n",
       "      <td>1</td>\n",
       "      <td>False</td>\n",
       "    </tr>\n",
       "    <tr>\n",
       "      <th>1</th>\n",
       "      <td>2</td>\n",
       "      <td>Ivysaur</td>\n",
       "      <td>Grass</td>\n",
       "      <td>Poison</td>\n",
       "      <td>405</td>\n",
       "      <td>60</td>\n",
       "      <td>62</td>\n",
       "      <td>63</td>\n",
       "      <td>80</td>\n",
       "      <td>80</td>\n",
       "      <td>60</td>\n",
       "      <td>1</td>\n",
       "      <td>False</td>\n",
       "    </tr>\n",
       "    <tr>\n",
       "      <th>2</th>\n",
       "      <td>3</td>\n",
       "      <td>Venusaur</td>\n",
       "      <td>Grass</td>\n",
       "      <td>Poison</td>\n",
       "      <td>525</td>\n",
       "      <td>80</td>\n",
       "      <td>82</td>\n",
       "      <td>83</td>\n",
       "      <td>100</td>\n",
       "      <td>100</td>\n",
       "      <td>80</td>\n",
       "      <td>1</td>\n",
       "      <td>False</td>\n",
       "    </tr>\n",
       "    <tr>\n",
       "      <th>3</th>\n",
       "      <td>3</td>\n",
       "      <td>VenusaurMega Venusaur</td>\n",
       "      <td>Grass</td>\n",
       "      <td>Poison</td>\n",
       "      <td>625</td>\n",
       "      <td>80</td>\n",
       "      <td>100</td>\n",
       "      <td>123</td>\n",
       "      <td>122</td>\n",
       "      <td>120</td>\n",
       "      <td>80</td>\n",
       "      <td>1</td>\n",
       "      <td>False</td>\n",
       "    </tr>\n",
       "    <tr>\n",
       "      <th>4</th>\n",
       "      <td>4</td>\n",
       "      <td>Charmander</td>\n",
       "      <td>Fire</td>\n",
       "      <td>NaN</td>\n",
       "      <td>309</td>\n",
       "      <td>39</td>\n",
       "      <td>52</td>\n",
       "      <td>43</td>\n",
       "      <td>60</td>\n",
       "      <td>50</td>\n",
       "      <td>65</td>\n",
       "      <td>1</td>\n",
       "      <td>False</td>\n",
       "    </tr>\n",
       "  </tbody>\n",
       "</table>\n",
       "</div>"
      ],
      "text/plain": [
       "   #                   Name Type 1  Type 2  Total  HP  Attack  Defense  \\\n",
       "0  1              Bulbasaur  Grass  Poison    318  45      49       49   \n",
       "1  2                Ivysaur  Grass  Poison    405  60      62       63   \n",
       "2  3               Venusaur  Grass  Poison    525  80      82       83   \n",
       "3  3  VenusaurMega Venusaur  Grass  Poison    625  80     100      123   \n",
       "4  4             Charmander   Fire     NaN    309  39      52       43   \n",
       "\n",
       "   Sp. Atk  Sp. Def  Speed  Generation  Legendary  \n",
       "0       65       65     45           1      False  \n",
       "1       80       80     60           1      False  \n",
       "2      100      100     80           1      False  \n",
       "3      122      120     80           1      False  \n",
       "4       60       50     65           1      False  "
      ]
     },
     "metadata": {},
     "output_type": "display_data"
    }
   ],
   "source": [
    "# Read 'Pokemon.csv' file.\n",
    "df = pd.read_csv('Pokemon.csv', delimiter=',', encoding='utf-8')\n",
    "display(df.head())"
   ]
  },
  {
   "cell_type": "code",
   "execution_count": 3,
   "metadata": {
    "id": "zDpGPFhsjslT"
   },
   "outputs": [
    {
     "name": "stdout",
     "output_type": "stream",
     "text": [
      "<class 'pandas.core.frame.DataFrame'>\n",
      "RangeIndex: 800 entries, 0 to 799\n",
      "Data columns (total 13 columns):\n",
      " #   Column      Non-Null Count  Dtype \n",
      "---  ------      --------------  ----- \n",
      " 0   #           800 non-null    int64 \n",
      " 1   Name        800 non-null    object\n",
      " 2   Type 1      800 non-null    object\n",
      " 3   Type 2      414 non-null    object\n",
      " 4   Total       800 non-null    int64 \n",
      " 5   HP          800 non-null    int64 \n",
      " 6   Attack      800 non-null    int64 \n",
      " 7   Defense     800 non-null    int64 \n",
      " 8   Sp. Atk     800 non-null    int64 \n",
      " 9   Sp. Def     800 non-null    int64 \n",
      " 10  Speed       800 non-null    int64 \n",
      " 11  Generation  800 non-null    int64 \n",
      " 12  Legendary   800 non-null    bool  \n",
      "dtypes: bool(1), int64(9), object(3)\n",
      "memory usage: 75.9+ KB\n"
     ]
    }
   ],
   "source": [
    "df.info()"
   ]
  },
  {
   "cell_type": "markdown",
   "metadata": {
    "id": "CDjHxjlWjslU"
   },
   "source": [
    "### **Question 1 (10 pts)**\n",
    "\n",
    "a. How many percentage of legendary Pokemons with an `Attack` value greater than 150? (3 pts)\n",
    "\n",
    "b. Also, we want to know how many percentage of non-legendary Pokemons with an `Attack` value greater than 150? (3 pts)\n",
    "\n",
    "c. Describe what you found. (1 pts)\n",
    "\n",
    "d. With the scatter plot in *lab04.pdf*, find which pokemon is the outlier at the lower right corner. (3 pts)\n",
    "\n",
    "\n",
    "**note**\n",
    "* Write your answers in answer sheet.\n"
   ]
  },
  {
   "cell_type": "code",
   "execution_count": 14,
   "metadata": {},
   "outputs": [
    {
     "data": {
      "text/plain": [
       "'percentage: 12.307692307692308'"
      ]
     },
     "execution_count": 14,
     "metadata": {},
     "output_type": "execute_result"
    }
   ],
   "source": [
    "# a\n",
    "legendary_above_150 = df[(df['Legendary'] == True) & (df['Attack'] > 150)]\n",
    "legendary = df[df['Legendary'] == True]\n",
    "percentage = (len(legendary_above_150) / len(legendary)) * 100\n",
    "\"percentage: \" + str(percentage)\n"
   ]
  },
  {
   "cell_type": "code",
   "execution_count": 15,
   "metadata": {},
   "outputs": [
    {
     "data": {
      "text/plain": [
       "'percentage: 1.0884353741496597'"
      ]
     },
     "execution_count": 15,
     "metadata": {},
     "output_type": "execute_result"
    }
   ],
   "source": [
    "# b\n",
    "non_legendary_above_150 = df[(df['Legendary'] == False) & (df['Attack'] > 150)]\n",
    "legendary = df[df['Legendary'] == False]\n",
    "percentage = (len(legendary_above_150) / len(legendary)) * 100\n",
    "\"percentage: \" + str(percentage)"
   ]
  },
  {
   "cell_type": "code",
   "execution_count": 27,
   "metadata": {},
   "outputs": [
    {
     "name": "stdout",
     "output_type": "stream",
     "text": [
      "230    Shuckle\n",
      "Name: Name, dtype: object\n"
     ]
    }
   ],
   "source": [
    "# d\n",
    "print(df[(df['Defense'] > 200) & (df['Attack'] < 25)]['Name'])"
   ]
  },
  {
   "cell_type": "markdown",
   "metadata": {
    "id": "-jFxGUCijslU"
   },
   "source": [
    "### **Question 2 (10 pts)**\n",
    "We have a DataFrame about pokemons now. We want to know the distribution of pokemon for each type.\n",
    "\n",
    "Complete the function ***pokemon_type_count()***\n",
    "\n",
    "\n",
    "**note:**\n",
    "* We only consider type1."
   ]
  },
  {
   "cell_type": "code",
   "execution_count": 34,
   "metadata": {
    "id": "hPzKB31kjslU"
   },
   "outputs": [],
   "source": [
    "def pokemon_type1_count(pokemon):\n",
    "    \"\"\"\n",
    "    compute the number of pokemons for each type1\n",
    "\n",
    "\n",
    "    Args:\n",
    "        pokemon (pd.DataFrame) : pokemon dataframe\n",
    "\n",
    "    Returns:\n",
    "        Dict[str, int] : dictionary of pokemon types and their counts\n",
    "    \"\"\"\n",
    "\n",
    "    ans = {}\n",
    "    # TODO_2\n",
    "    # print(pokemon['Type 1'].value_counts())\n",
    "    ans = pokemon['Type 1'].value_counts().to_dict()\n",
    "\n",
    "    return ans"
   ]
  },
  {
   "cell_type": "code",
   "execution_count": 35,
   "metadata": {},
   "outputs": [
    {
     "data": {
      "text/plain": [
       "{'Water': 112,\n",
       " 'Normal': 98,\n",
       " 'Grass': 70,\n",
       " 'Bug': 69,\n",
       " 'Psychic': 57,\n",
       " 'Fire': 52,\n",
       " 'Electric': 44,\n",
       " 'Rock': 44,\n",
       " 'Dragon': 32,\n",
       " 'Ground': 32,\n",
       " 'Ghost': 32,\n",
       " 'Dark': 31,\n",
       " 'Poison': 28,\n",
       " 'Steel': 27,\n",
       " 'Fighting': 27,\n",
       " 'Ice': 24,\n",
       " 'Fairy': 17,\n",
       " 'Flying': 4}"
      ]
     },
     "execution_count": 35,
     "metadata": {},
     "output_type": "execute_result"
    }
   ],
   "source": [
    "pokemon_type1_count(df)"
   ]
  },
  {
   "cell_type": "code",
   "execution_count": null,
   "metadata": {
    "id": "Kww1lDU-jslV"
   },
   "outputs": [],
   "source": [
    "# This is the assistant's program for review, please do not delete.\n",
    "def test_pokemon_type(pokemon_dict):\n",
    "    \"\"\"\n",
    "    test the pokemon type dictionary\n",
    "\n",
    "    Args:\n",
    "        pokemon_dict (Dict[str, int]) : pokemon type dictionary\n",
    "\n",
    "    Returns:\n",
    "        None\n",
    "    \"\"\"\n",
    "\n",
    "    assert isinstance(pokemon_dict, dict), 'pokemon_dict should be a dictionary'\n",
    "    assert all(isinstance(key, str) for key in pokemon_dict.keys()), 'pokemon_dict keys should be strings'\n",
    "    assert all(isinstance(value, int) for value in pokemon_dict.values()), 'pokemon_dict values should be integers'\n",
    "    assert all(value > 0 for value in pokemon_dict.values()), 'pokemon_dict values should be positive integers'\n",
    "    assert pokemon_dict['Water'] == 112, 'pokemon_dict should have 112 water pokemon'\n",
    "    assert pokemon_dict['Normal'] == 98, 'pokemon_dict should have 98 normal pokemon'\n",
    "    assert sum(pokemon_dict.values()) == 800, 'pokemon_dict values should sum to 800'\n",
    "\n",
    "    print('All tests passed!')\n",
    "\n",
    "\n",
    "test_pokemon_type(pokemon_type1_count(df))\n"
   ]
  },
  {
   "cell_type": "markdown",
   "metadata": {
    "id": "06pJFmaJjslV"
   },
   "source": [
    "## Question 3 (10 pts)\n",
    "\n",
    "We want to compare the attack value in each generation.\n",
    "\n",
    "Complete the function `average_attack_type()`, the input should be a pd.DataFrame and output should be a dictionary.\n",
    "\n",
    "\n",
    "**note**\n",
    "* If the pokemon has multiple types, you should consider it in both types."
   ]
  },
  {
   "cell_type": "code",
   "execution_count": 38,
   "metadata": {
    "id": "b7TpGCQ4jslV"
   },
   "outputs": [],
   "source": [
    "def average_attack_type(pokemon):\n",
    "    \"\"\"\n",
    "    compute the average attack for each type1\n",
    "\n",
    "\n",
    "    Args:\n",
    "        pokemon (pd.DataFrame) : pokemon dataframe\n",
    "\n",
    "    Returns:\n",
    "        Dict[str, int] : dictionary of pokemon types and their average attack\n",
    "    \"\"\"\n",
    "\n",
    "    ans = {}\n",
    "    # TODO_3\n",
    "    ans = pokemon.groupby('Type 1')['Attack'].mean().to_dict()\n",
    "\n",
    "    return ans"
   ]
  },
  {
   "cell_type": "code",
   "execution_count": 39,
   "metadata": {},
   "outputs": [
    {
     "data": {
      "text/plain": [
       "{'Bug': 70.97101449275362,\n",
       " 'Dark': 88.38709677419355,\n",
       " 'Dragon': 112.125,\n",
       " 'Electric': 69.0909090909091,\n",
       " 'Fairy': 61.529411764705884,\n",
       " 'Fighting': 96.77777777777777,\n",
       " 'Fire': 84.76923076923077,\n",
       " 'Flying': 78.75,\n",
       " 'Ghost': 73.78125,\n",
       " 'Grass': 73.21428571428571,\n",
       " 'Ground': 95.75,\n",
       " 'Ice': 72.75,\n",
       " 'Normal': 73.46938775510205,\n",
       " 'Poison': 74.67857142857143,\n",
       " 'Psychic': 71.45614035087719,\n",
       " 'Rock': 92.86363636363636,\n",
       " 'Steel': 92.70370370370371,\n",
       " 'Water': 74.15178571428571}"
      ]
     },
     "execution_count": 39,
     "metadata": {},
     "output_type": "execute_result"
    }
   ],
   "source": [
    "average_attack_type(df)"
   ]
  },
  {
   "cell_type": "code",
   "execution_count": null,
   "metadata": {
    "id": "V5nbZ1cvjslV"
   },
   "outputs": [],
   "source": [
    "# This is the assistant's program for review, please do not delete.\n",
    "def test_average_attack_type(average_attack_type):\n",
    "    \"\"\"\n",
    "    test the average attack type dictionary\n",
    "\n",
    "    Args:\n",
    "        average_attack_type (Dict[str, int]) : average attack type dictionary\n",
    "\n",
    "    Returns:\n",
    "        None\n",
    "    \"\"\"\n",
    "    assert isinstance(average_attack_type, dict), 'average_attack_type should be a dictionary'\n",
    "    assert all(isinstance(key, str) for key in average_attack_type.keys()), 'average_attack_type keys should be strings'\n",
    "    assert all(isinstance(value, float) for value in average_attack_type.values()), 'average_attack_type values should be floats'\n",
    "    assert all(value > 0 for value in average_attack_type.values()), 'average_attack_type values should be positive floats'\n",
    "    assert np.allclose(average_attack_type['Water'], 73.7063492063492), 'average_attack_type should have 73.7063492063492 water pokemon'\n",
    "    assert np.allclose(average_attack_type['Grass'], 73.46315789473684), 'average_attack_type should have 73.46315789473684 grass pokemon'\n",
    "\n",
    "    print('All tests passed!')\n",
    "\n",
    "\n",
    "\n",
    "\n",
    "test_average_attack_type(average_attack_type(df))"
   ]
  }
 ],
 "metadata": {
  "colab": {
   "provenance": []
  },
  "kernelspec": {
   "display_name": "Python 3 (ipykernel)",
   "language": "python",
   "name": "python3"
  },
  "language_info": {
   "codemirror_mode": {
    "name": "ipython",
    "version": 3
   },
   "file_extension": ".py",
   "mimetype": "text/x-python",
   "name": "python",
   "nbconvert_exporter": "python",
   "pygments_lexer": "ipython3",
   "version": "3.11.4"
  }
 },
 "nbformat": 4,
 "nbformat_minor": 1
}
